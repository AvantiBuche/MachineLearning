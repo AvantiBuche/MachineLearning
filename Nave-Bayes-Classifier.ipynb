{
 "cells": [
  {
   "cell_type": "code",
   "execution_count": 1,
   "id": "43310d3d",
   "metadata": {},
   "outputs": [
    {
     "data": {
      "text/html": [
       "<div>\n",
       "<style scoped>\n",
       "    .dataframe tbody tr th:only-of-type {\n",
       "        vertical-align: middle;\n",
       "    }\n",
       "\n",
       "    .dataframe tbody tr th {\n",
       "        vertical-align: top;\n",
       "    }\n",
       "\n",
       "    .dataframe thead th {\n",
       "        text-align: right;\n",
       "    }\n",
       "</style>\n",
       "<table border=\"1\" class=\"dataframe\">\n",
       "  <thead>\n",
       "    <tr style=\"text-align: right;\">\n",
       "      <th></th>\n",
       "      <th>User ID</th>\n",
       "      <th>Gender</th>\n",
       "      <th>Age</th>\n",
       "      <th>EstimatedSalary</th>\n",
       "      <th>Purchased</th>\n",
       "    </tr>\n",
       "  </thead>\n",
       "  <tbody>\n",
       "    <tr>\n",
       "      <th>0</th>\n",
       "      <td>15624510</td>\n",
       "      <td>Male</td>\n",
       "      <td>19</td>\n",
       "      <td>19000</td>\n",
       "      <td>0</td>\n",
       "    </tr>\n",
       "    <tr>\n",
       "      <th>1</th>\n",
       "      <td>15810944</td>\n",
       "      <td>Male</td>\n",
       "      <td>35</td>\n",
       "      <td>20000</td>\n",
       "      <td>0</td>\n",
       "    </tr>\n",
       "    <tr>\n",
       "      <th>2</th>\n",
       "      <td>15668575</td>\n",
       "      <td>Female</td>\n",
       "      <td>26</td>\n",
       "      <td>43000</td>\n",
       "      <td>0</td>\n",
       "    </tr>\n",
       "    <tr>\n",
       "      <th>3</th>\n",
       "      <td>15603246</td>\n",
       "      <td>Female</td>\n",
       "      <td>27</td>\n",
       "      <td>57000</td>\n",
       "      <td>0</td>\n",
       "    </tr>\n",
       "    <tr>\n",
       "      <th>4</th>\n",
       "      <td>15804002</td>\n",
       "      <td>Male</td>\n",
       "      <td>19</td>\n",
       "      <td>76000</td>\n",
       "      <td>0</td>\n",
       "    </tr>\n",
       "    <tr>\n",
       "      <th>...</th>\n",
       "      <td>...</td>\n",
       "      <td>...</td>\n",
       "      <td>...</td>\n",
       "      <td>...</td>\n",
       "      <td>...</td>\n",
       "    </tr>\n",
       "    <tr>\n",
       "      <th>395</th>\n",
       "      <td>15691863</td>\n",
       "      <td>Female</td>\n",
       "      <td>46</td>\n",
       "      <td>41000</td>\n",
       "      <td>1</td>\n",
       "    </tr>\n",
       "    <tr>\n",
       "      <th>396</th>\n",
       "      <td>15706071</td>\n",
       "      <td>Male</td>\n",
       "      <td>51</td>\n",
       "      <td>23000</td>\n",
       "      <td>1</td>\n",
       "    </tr>\n",
       "    <tr>\n",
       "      <th>397</th>\n",
       "      <td>15654296</td>\n",
       "      <td>Female</td>\n",
       "      <td>50</td>\n",
       "      <td>20000</td>\n",
       "      <td>1</td>\n",
       "    </tr>\n",
       "    <tr>\n",
       "      <th>398</th>\n",
       "      <td>15755018</td>\n",
       "      <td>Male</td>\n",
       "      <td>36</td>\n",
       "      <td>33000</td>\n",
       "      <td>0</td>\n",
       "    </tr>\n",
       "    <tr>\n",
       "      <th>399</th>\n",
       "      <td>15594041</td>\n",
       "      <td>Female</td>\n",
       "      <td>49</td>\n",
       "      <td>36000</td>\n",
       "      <td>1</td>\n",
       "    </tr>\n",
       "  </tbody>\n",
       "</table>\n",
       "<p>400 rows × 5 columns</p>\n",
       "</div>"
      ],
      "text/plain": [
       "      User ID  Gender  Age  EstimatedSalary  Purchased\n",
       "0    15624510    Male   19            19000          0\n",
       "1    15810944    Male   35            20000          0\n",
       "2    15668575  Female   26            43000          0\n",
       "3    15603246  Female   27            57000          0\n",
       "4    15804002    Male   19            76000          0\n",
       "..        ...     ...  ...              ...        ...\n",
       "395  15691863  Female   46            41000          1\n",
       "396  15706071    Male   51            23000          1\n",
       "397  15654296  Female   50            20000          1\n",
       "398  15755018    Male   36            33000          0\n",
       "399  15594041  Female   49            36000          1\n",
       "\n",
       "[400 rows x 5 columns]"
      ]
     },
     "execution_count": 1,
     "metadata": {},
     "output_type": "execute_result"
    }
   ],
   "source": [
    "import numpy as np\n",
    "import pandas as pd\n",
    "import matplotlib.pyplot as plt\n",
    "import seaborn as sns\n",
    "sns.set_style('whitegrid')\n",
    "dataset = pd.read_csv('Social_Network_Ads.csv')\n",
    "dataset"
   ]
  },
  {
   "cell_type": "code",
   "execution_count": 2,
   "id": "61df0864",
   "metadata": {},
   "outputs": [],
   "source": [
    "x = np.array(dataset[['Age','EstimatedSalary']])\n",
    "y = np.array(dataset['Purchased'])"
   ]
  },
  {
   "cell_type": "code",
   "execution_count": 5,
   "id": "815bcf8e",
   "metadata": {},
   "outputs": [
    {
     "data": {
      "text/plain": [
       "GaussianNB()"
      ]
     },
     "execution_count": 5,
     "metadata": {},
     "output_type": "execute_result"
    }
   ],
   "source": [
    "from sklearn.model_selection import train_test_split\n",
    "X_train,X_test,y_train,y_test = train_test_split(x,y,test_size=0.2,random_state=0)\n",
    "\n",
    "#Nave Bayes Classifier\n",
    "\n",
    "from sklearn.naive_bayes import GaussianNB\n",
    "model = GaussianNB()\n",
    "model.fit(X_train,y_train)"
   ]
  },
  {
   "cell_type": "code",
   "execution_count": 6,
   "id": "c4d6f684",
   "metadata": {},
   "outputs": [
    {
     "data": {
      "text/plain": [
       "array([0, 0, 0, 0, 0, 0, 0, 1, 0, 0, 0, 0, 0, 0, 0, 1, 0, 0, 1, 0, 0, 1,\n",
       "       0, 1, 0, 1, 0, 0, 0, 0, 0, 0, 1, 0, 0, 0, 0, 0, 0, 1, 0, 0, 0, 0,\n",
       "       1, 0, 0, 1, 0, 1, 1, 0, 0, 1, 1, 0, 0, 0, 1, 0, 0, 1, 0, 0, 0, 1,\n",
       "       0, 0, 0, 0, 1, 0, 0, 0, 0, 0, 0, 0, 1, 1])"
      ]
     },
     "execution_count": 6,
     "metadata": {},
     "output_type": "execute_result"
    }
   ],
   "source": [
    "y_pred = model.predict(X_test)\n",
    "y_pred"
   ]
  },
  {
   "cell_type": "code",
   "execution_count": 7,
   "id": "aa11e6c7",
   "metadata": {},
   "outputs": [
    {
     "data": {
      "text/plain": [
       "array([0, 0, 0, 0, 0, 0, 0, 1, 0, 0, 0, 0, 0, 0, 0, 0, 0, 0, 1, 0, 0, 1,\n",
       "       0, 1, 0, 1, 0, 0, 0, 0, 0, 1, 1, 0, 0, 0, 0, 0, 0, 1, 0, 0, 0, 0,\n",
       "       1, 0, 0, 1, 0, 1, 1, 0, 0, 0, 1, 1, 0, 0, 1, 0, 0, 1, 0, 1, 0, 1,\n",
       "       0, 0, 0, 0, 1, 0, 0, 1, 0, 0, 0, 0, 1, 1])"
      ]
     },
     "execution_count": 7,
     "metadata": {},
     "output_type": "execute_result"
    }
   ],
   "source": [
    "y_test"
   ]
  },
  {
   "cell_type": "code",
   "execution_count": 8,
   "id": "896e1be7",
   "metadata": {},
   "outputs": [
    {
     "name": "stdout",
     "output_type": "stream",
     "text": [
      "[[56  2]\n",
      " [ 4 18]]\n"
     ]
    }
   ],
   "source": [
    "from sklearn.metrics import classification_report,confusion_matrix\n",
    "print(confusion_matrix(y_test,y_pred))"
   ]
  },
  {
   "cell_type": "code",
   "execution_count": 9,
   "id": "2328009b",
   "metadata": {},
   "outputs": [
    {
     "name": "stdout",
     "output_type": "stream",
     "text": [
      "              precision    recall  f1-score   support\n",
      "\n",
      "           0       0.93      0.97      0.95        58\n",
      "           1       0.90      0.82      0.86        22\n",
      "\n",
      "    accuracy                           0.93        80\n",
      "   macro avg       0.92      0.89      0.90        80\n",
      "weighted avg       0.92      0.93      0.92        80\n",
      "\n"
     ]
    }
   ],
   "source": [
    "print(classification_report(y_test,y_pred))"
   ]
  },
  {
   "cell_type": "code",
   "execution_count": 10,
   "id": "8ba57bc0",
   "metadata": {},
   "outputs": [
    {
     "data": {
      "text/plain": [
       "array([[0.89147043, 0.10852957],\n",
       "       [0.84097849, 0.15902151],\n",
       "       [0.85177346, 0.14822654],\n",
       "       [0.91910807, 0.08089193],\n",
       "       [0.89836193, 0.10163807],\n",
       "       [0.95434022, 0.04565978],\n",
       "       [0.90414431, 0.09585569],\n",
       "       [0.03556946, 0.96443054],\n",
       "       [0.98918806, 0.01081194],\n",
       "       [0.50281633, 0.49718367],\n",
       "       [0.95249262, 0.04750738],\n",
       "       [0.96371556, 0.03628444],\n",
       "       [0.85930139, 0.14069861],\n",
       "       [0.7299999 , 0.2700001 ],\n",
       "       [0.97431305, 0.02568695],\n",
       "       [0.47994231, 0.52005769],\n",
       "       [0.79297558, 0.20702442],\n",
       "       [0.97847631, 0.02152369],\n",
       "       [0.00422727, 0.99577273],\n",
       "       [0.86019336, 0.13980664],\n",
       "       [0.89871448, 0.10128552],\n",
       "       [0.00500754, 0.99499246],\n",
       "       [0.75594755, 0.24405245],\n",
       "       [0.13376637, 0.86623363],\n",
       "       [0.97909645, 0.02090355],\n",
       "       [0.0047035 , 0.9952965 ],\n",
       "       [0.9182418 , 0.0817582 ],\n",
       "       [0.92764915, 0.07235085],\n",
       "       [0.84823267, 0.15176733],\n",
       "       [0.86172083, 0.13827917],\n",
       "       [0.9678875 , 0.0321125 ],\n",
       "       [0.78129467, 0.21870533],\n",
       "       [0.11042736, 0.88957264],\n",
       "       [0.86111685, 0.13888315],\n",
       "       [0.97916887, 0.02083113],\n",
       "       [0.99139079, 0.00860921],\n",
       "       [0.97234947, 0.02765053],\n",
       "       [0.91209682, 0.08790318],\n",
       "       [0.93926899, 0.06073101],\n",
       "       [0.39193642, 0.60806358],\n",
       "       [0.92597765, 0.07402235],\n",
       "       [0.75507876, 0.24492124],\n",
       "       [0.93716581, 0.06283419],\n",
       "       [0.85281809, 0.14718191],\n",
       "       [0.16753038, 0.83246962],\n",
       "       [0.9677573 , 0.0322427 ],\n",
       "       [0.77498134, 0.22501866],\n",
       "       [0.11958261, 0.88041739],\n",
       "       [0.96910772, 0.03089228],\n",
       "       [0.22882268, 0.77117732],\n",
       "       [0.00567884, 0.99432116],\n",
       "       [0.88752012, 0.11247988],\n",
       "       [0.89381317, 0.10618683],\n",
       "       [0.43716791, 0.56283209],\n",
       "       [0.03349443, 0.96650557],\n",
       "       [0.56650561, 0.43349439],\n",
       "       [0.9194267 , 0.0805733 ],\n",
       "       [0.95309194, 0.04690806],\n",
       "       [0.35913909, 0.64086091],\n",
       "       [0.9742679 , 0.0257321 ],\n",
       "       [0.8991838 , 0.1008162 ],\n",
       "       [0.0656375 , 0.9343625 ],\n",
       "       [0.98457513, 0.01542487],\n",
       "       [0.62169745, 0.37830255],\n",
       "       [0.98741951, 0.01258049],\n",
       "       [0.03350887, 0.96649113],\n",
       "       [0.94922463, 0.05077537],\n",
       "       [0.9677573 , 0.0322427 ],\n",
       "       [0.78870164, 0.21129836],\n",
       "       [0.66050225, 0.33949775],\n",
       "       [0.03504982, 0.96495018],\n",
       "       [0.8433546 , 0.1566454 ],\n",
       "       [0.98312176, 0.01687824],\n",
       "       [0.50894838, 0.49105162],\n",
       "       [0.92270414, 0.07729586],\n",
       "       [0.98330706, 0.01669294],\n",
       "       [0.59570633, 0.40429367],\n",
       "       [0.77318442, 0.22681558],\n",
       "       [0.21985332, 0.78014668],\n",
       "       [0.11904296, 0.88095704]])"
      ]
     },
     "execution_count": 10,
     "metadata": {},
     "output_type": "execute_result"
    }
   ],
   "source": [
    "y_hat_prob = model.predict_proba(X_test)\n",
    "#prediction in probability\n",
    "y_hat_prob\n",
    "# first column for 0 second for 1\n",
    "#whichever column is highest it will predict thecolumn number\n",
    "#like 0 for first row"
   ]
  },
  {
   "cell_type": "code",
   "execution_count": null,
   "id": "28883c0c",
   "metadata": {},
   "outputs": [],
   "source": []
  }
 ],
 "metadata": {
  "kernelspec": {
   "display_name": "Python 3 (ipykernel)",
   "language": "python",
   "name": "python3"
  },
  "language_info": {
   "codemirror_mode": {
    "name": "ipython",
    "version": 3
   },
   "file_extension": ".py",
   "mimetype": "text/x-python",
   "name": "python",
   "nbconvert_exporter": "python",
   "pygments_lexer": "ipython3",
   "version": "3.9.13"
  }
 },
 "nbformat": 4,
 "nbformat_minor": 5
}
